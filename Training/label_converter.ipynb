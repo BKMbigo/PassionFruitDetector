{
 "cells": [
  {
   "cell_type": "code",
   "execution_count": 1,
   "metadata": {
    "collapsed": true,
    "ExecuteTime": {
     "start_time": "2023-04-02T17:45:30.194229Z",
     "end_time": "2023-04-02T17:45:30.859697Z"
    }
   },
   "outputs": [],
   "source": [
    "import pandas as pd"
   ]
  },
  {
   "cell_type": "markdown",
   "source": [
    "PASCAL dataset\n",
    "\n",
    "<annotation>\n",
    "    <object>\n",
    "        <name> #class_name </name>\n",
    "        <bndbox>\n",
    "            <xmin> </xmin>\n",
    "            <ymin> </ymin>\n",
    "            <xmax> </xmax>\n",
    "            <ymax> </ymax>\n",
    "        </bndbox>\n",
    "    </object>\n",
    "</annotation>\n",
    "\n"
   ],
   "metadata": {
    "collapsed": false
   }
  },
  {
   "cell_type": "code",
   "execution_count": 2,
   "outputs": [
    {
     "name": "stdout",
     "output_type": "stream",
     "text": [
      "      Image_ID            class   xmin   ymin  width  height\n",
      "0  ID_007FAIEI  fruit_woodiness   87.0   87.5  228.0   311.0\n",
      "1  ID_00G8K1V3  fruit_brownspot   97.5   17.5  245.0   354.5\n",
      "2  ID_00WROUT9  fruit_brownspot  156.5  209.5  248.0   302.5\n",
      "3  ID_00ZJEEK3    fruit_healthy  125.0  193.0  254.5   217.0\n",
      "4  ID_018UIENR  fruit_brownspot   79.5  232.5  233.5   182.0\n"
     ]
    }
   ],
   "source": [
    "originalCSV = pd.read_csv(\"Train.csv\")\n",
    "print(originalCSV.head())"
   ],
   "metadata": {
    "collapsed": false,
    "ExecuteTime": {
     "start_time": "2023-04-02T17:45:47.735931Z",
     "end_time": "2023-04-02T17:45:47.880032Z"
    }
   }
  },
  {
   "cell_type": "code",
   "execution_count": 3,
   "outputs": [
    {
     "name": "stdout",
     "output_type": "stream",
     "text": [
      "      Image_ID            class  x_relative_min  y_relative_min  \\\n",
      "0  ID_007FAIEI  fruit_woodiness            87.0            87.5   \n",
      "1  ID_00G8K1V3  fruit_brownspot            97.5            17.5   \n",
      "2  ID_00WROUT9  fruit_brownspot           156.5           209.5   \n",
      "3  ID_00ZJEEK3    fruit_healthy           125.0           193.0   \n",
      "4  ID_018UIENR  fruit_brownspot            79.5           232.5   \n",
      "\n",
      "   x_relative_max  y_relative_max  \n",
      "0           315.0           398.5  \n",
      "1           342.5           372.0  \n",
      "2           404.5           512.0  \n",
      "3           379.5           410.0  \n",
      "4           313.0           414.5  \n"
     ]
    }
   ],
   "source": [
    "newCSV = originalCSV.copy(deep = True)\n",
    "# newCSV.drop([\"width\", \"height\"], axis=1, inplace=True)\n",
    "newCSV[\"width\"] = newCSV[\"width\"] + newCSV.xmin\n",
    "newCSV[\"height\"] = newCSV[\"height\"] + newCSV.ymin\n",
    "newCSV.rename(columns={\"width\": \"xmax\", \"height\": \"ymax\"}, inplace=True)\n",
    "newCSV.rename(\n",
    "    columns={\n",
    "        \"xmin\": \"x_relative_min\",\n",
    "        \"ymin\": \"y_relative_min\",\n",
    "        \"xmax\": \"x_relative_max\",\n",
    "        \"ymax\": \"y_relative_max\"\n",
    "    }, inplace=True)\n",
    "print(newCSV.head())"
   ],
   "metadata": {
    "collapsed": false,
    "ExecuteTime": {
     "start_time": "2023-04-02T17:45:51.914846Z",
     "end_time": "2023-04-02T17:45:52.007009Z"
    }
   }
  },
  {
   "cell_type": "code",
   "execution_count": 7,
   "outputs": [
    {
     "name": "stdout",
     "output_type": "stream",
     "text": [
      "     set             path            label  x_min  y_min  x_max  y_min_1  \\\n",
      "0  TRAIN  ID_007FAIEI.jpg  fruit_woodiness   87.0   87.5  315.0     87.5   \n",
      "1  TRAIN  ID_00G8K1V3.jpg  fruit_brownspot   97.5   17.5  342.5     17.5   \n",
      "2  TRAIN  ID_00WROUT9.jpg  fruit_brownspot  156.5  209.5  404.5    209.5   \n",
      "3  TRAIN  ID_00ZJEEK3.jpg    fruit_healthy  125.0  193.0  379.5    193.0   \n",
      "4  TRAIN  ID_018UIENR.jpg  fruit_brownspot   79.5  232.5  313.0    232.5   \n",
      "\n",
      "   x_max_1  y_max  x_min_1  y_max_1  \n",
      "0    315.0  398.5     87.0    398.5  \n",
      "1    342.5  372.0     97.5    372.0  \n",
      "2    404.5  512.0    156.5    512.0  \n",
      "3    379.5  410.0    125.0    410.0  \n",
      "4    313.0  414.5     79.5    414.5  \n",
      "['TRAIN' 'VALIDATION' 'TEST']\n",
      "set        0\n",
      "path       0\n",
      "label      0\n",
      "x_min      0\n",
      "y_min      0\n",
      "x_max      0\n",
      "y_min_1    0\n",
      "x_max_1    0\n",
      "y_max      0\n",
      "x_min_1    0\n",
      "y_max_1    0\n",
      "dtype: int64\n"
     ]
    }
   ],
   "source": [
    "# x_min, y_min, x_max, y_min, x_max, y_max, x_min, y_max\n",
    "\n",
    "\n",
    "printCSV = pd.DataFrame()\n",
    "printCSV[\"set\"] = \"TRAIN\"\n",
    "printCSV[\"path\"] = newCSV[\"Image_ID\"] + \".jpg\"\n",
    "printCSV[\"label\"] = newCSV[\"class\"]\n",
    "printCSV[\"x_min\"] = newCSV[\"x_relative_min\"]\n",
    "printCSV[\"y_min\"] = newCSV[\"y_relative_min\"]\n",
    "printCSV[\"x_max\"] = newCSV[\"x_relative_max\"]\n",
    "printCSV[\"y_min_1\"] = newCSV[\"y_relative_min\"]\n",
    "printCSV[\"x_max_1\"] = newCSV[\"x_relative_max\"]\n",
    "printCSV[\"y_max\"] = newCSV[\"y_relative_max\"]\n",
    "printCSV[\"x_min_1\"] = newCSV[\"x_relative_min\"]\n",
    "printCSV[\"y_max_1\"] = newCSV[\"y_relative_max\"]\n",
    "printCSV.loc[0:2400, \"set\"] = \"TRAIN\"\n",
    "printCSV.loc[2401:2550, \"set\"] = \"VALIDATION\"\n",
    "printCSV.loc[2551:, \"set\"] = \"TEST\"\n",
    "\n",
    "print(printCSV.head())\n",
    "print(printCSV[\"set\"].unique())\n",
    "print(printCSV.isna().sum())"
   ],
   "metadata": {
    "collapsed": false,
    "ExecuteTime": {
     "start_time": "2023-04-02T17:50:15.667277Z",
     "end_time": "2023-04-02T17:50:15.708151Z"
    }
   }
  },
  {
   "cell_type": "code",
   "execution_count": 9,
   "outputs": [],
   "source": [
    "\n",
    "printCSV.to_csv(\n",
    "    \"new_converted_labels.csv\",\n",
    "    header=False,\n",
    "    index=False\n",
    ")"
   ],
   "metadata": {
    "collapsed": false,
    "ExecuteTime": {
     "start_time": "2023-04-02T17:59:58.176517Z",
     "end_time": "2023-04-02T17:59:58.297004Z"
    }
   }
  }
 ],
 "metadata": {
  "kernelspec": {
   "display_name": "Python 3",
   "language": "python",
   "name": "python3"
  },
  "language_info": {
   "codemirror_mode": {
    "name": "ipython",
    "version": 2
   },
   "file_extension": ".py",
   "mimetype": "text/x-python",
   "name": "python",
   "nbconvert_exporter": "python",
   "pygments_lexer": "ipython2",
   "version": "2.7.6"
  }
 },
 "nbformat": 4,
 "nbformat_minor": 0
}
