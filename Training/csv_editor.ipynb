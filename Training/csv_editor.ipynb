{
 "cells": [
  {
   "cell_type": "code",
   "execution_count": 12,
   "outputs": [],
   "source": [
    "import csv\n",
    "import json\n",
    "import os\n",
    "import xml.etree.ElementTree as ET"
   ],
   "metadata": {
    "collapsed": false
   }
  },
  {
   "cell_type": "code",
   "execution_count": 15,
   "outputs": [],
   "source": [
    "root_element = \"annotation\"\n",
    "objectpath = \"object\""
   ],
   "metadata": {
    "collapsed": false
   }
  },
  {
   "cell_type": "code",
   "execution_count": 28,
   "outputs": [
    {
     "name": "stdout",
     "output_type": "stream",
     "text": [
      "None\n",
      "<annotation>\n"
     ]
    },
    {
     "ename": "ParseError",
     "evalue": "no element found: line 1, column 12 (<string>)",
     "output_type": "error",
     "traceback": [
      "Traceback \u001B[1;36m(most recent call last)\u001B[0m:\n",
      "\u001B[0m  File \u001B[0;32mD:\\Environments\\computer_vision\\lib\\site-packages\\IPython\\core\\interactiveshell.py:3433\u001B[0m in \u001B[0;35mrun_code\u001B[0m\n    exec(code_obj, self.user_global_ns, self.user_ns)\u001B[0m\n",
      "\u001B[0m  Cell \u001B[0;32mIn[28], line 17\u001B[0m\n    root = ET.fromstring(row['annotation'])\u001B[0m\n",
      "\u001B[1;36m  File \u001B[1;32mD:\\Environments\\computer_vision\\lib\\xml\\etree\\ElementTree.py:1343\u001B[1;36m in \u001B[1;35mXML\u001B[1;36m\n\u001B[1;33m    return parser.close()\u001B[1;36m\n",
      "\u001B[1;36m  File \u001B[1;32m<string>\u001B[1;36m\u001B[0m\n\u001B[1;31mParseError\u001B[0m\u001B[1;31m:\u001B[0m no element found: line 1, column 12\n"
     ]
    }
   ],
   "source": [
    "label_directory = \"D:\\\\Projects\\\\Programming\\\\JavaVirtualMachine\\\\Kotlin\\\\PersonalProjects\\\\Android\\\\ComputerVision\\\\PassionFruitDetection\\\\Training\\\\Train_labels\"\n",
    "\n",
    "save_directory = \"D:\\\\Projects\\\\Programming\\\\JavaVirtualMachine\\\\Kotlin\\\\PersonalProjects\\\\Android\\\\ComputerVision\\\\PassionFruitDetection\\\\Training\\\\Edited_labels\"\n",
    "\n",
    "for filename in os.listdir(label_directory):\n",
    "    filepath = os.path.join(label_directory, filename)\n",
    "    saveFilePath = os.path.join(save_directory, filename)\n",
    "    # print(filepath)\n",
    "\n",
    "    with open(filepath, 'r') as csvfile:\n",
    "        reader = csv.DictReader(csvfile, fieldnames=[root_element])\n",
    "        print(reader.reader)\n",
    "        data = [row for row in reader]\n",
    "\n",
    "    for row in data:\n",
    "        print(row['annotation'])\n",
    "        root = ET.fromstring(row['annotation'])\n",
    "        for obj in root.iter('object'):\n",
    "            if obj.find('difficult') is None:\n",
    "                difficult = ET.SubElement(obj, 'difficult')\n",
    "                difficult.text = '0'\n",
    "\n",
    "                truncated = ET.SubElement(obj, 'truncated')\n",
    "                truncated.text = '0'\n",
    "\n",
    "                pose = ET.SubElement(obj, 'pose')\n",
    "                truncated.text = 'Unspecified'\n",
    "\n",
    "        row['annotation'] = ET.tostring(root, encoding='unicode')\n",
    "\n",
    "    with open(saveFilePath, 'w', newline='') as csvfile:\n",
    "        writer = csv.DictWriter(csvfile, fieldnames=data[0].keys())\n",
    "        writer.writerows(data)"
   ],
   "metadata": {
    "collapsed": false
   }
  }
 ],
 "metadata": {
  "kernelspec": {
   "display_name": "Python 3",
   "language": "python",
   "name": "python3"
  },
  "language_info": {
   "codemirror_mode": {
    "name": "ipython",
    "version": 2
   },
   "file_extension": ".py",
   "mimetype": "text/x-python",
   "name": "python",
   "nbconvert_exporter": "python",
   "pygments_lexer": "ipython2",
   "version": "2.7.6"
  }
 },
 "nbformat": 4,
 "nbformat_minor": 0
}
